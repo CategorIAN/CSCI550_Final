{
 "cells": [
  {
   "cell_type": "markdown",
   "metadata": {},
   "source": [
    "# Import Packages"
   ]
  },
  {
   "cell_type": "code",
   "execution_count": 53,
   "metadata": {},
   "outputs": [],
   "source": [
    "#--Basics---------------\n",
    "import pandas as pd\n",
    "import numpy as np\n",
    "\n",
    "#--Data Visualization----\n",
    "import matplotlib.pyplot as plt\n",
    "import seaborn as sns\n",
    "\n",
    "#---Scikit-Learn--------\n",
    "from sklearn import set_config\n",
    "from sklearn.base import BaseEstimator, TransformerMixin\n",
    "from sklearn.cluster import KMeans, DBSCAN, SpectralClustering\n",
    "from sklearn.compose import ColumnTransformer\n",
    "from sklearn.preprocessing import OneHotEncoder, FunctionTransformer, MaxAbsScaler, StandardScaler, PolynomialFeatures\n",
    "from sklearn.pipeline import Pipeline\n",
    "from sklearn.feature_selection import SequentialFeatureSelector\n",
    "from sklearn.linear_model import Ridge, LinearRegression, LogisticRegression, Lasso\n",
    "from sklearn.impute import SimpleImputer\n",
    "from sklearn.utils import estimator_html_repr\n",
    "from sklearn.model_selection import train_test_split, cross_val_score\n",
    "from sklearn.metrics import mean_absolute_error, mean_squared_error, r2_score\n",
    "from sklearn.decomposition import PCA\n",
    "from sklearn.neighbors import KNeighborsRegressor\n",
    "from sklearn.ensemble import RandomForestRegressor\n",
    "from sklearn.svm import SVR\n",
    "\n",
    "#---Misc------------------\n",
    "from mlxtend.feature_selection import SequentialFeatureSelector as MLSeqFeatSelector\n",
    "from patsy import dmatrix\n",
    "import statsmodels.api as sm\n"
   ]
  },
  {
   "cell_type": "markdown",
   "metadata": {},
   "source": [
    "# Define Data"
   ]
  },
  {
   "cell_type": "code",
   "execution_count": 81,
   "metadata": {},
   "outputs": [],
   "source": [
    "class MyData:\n",
    "    def __init__(self, file, target_cols):\n",
    "        df = pd.read_csv(file)\n",
    "        cols_numeric, cols_categorical = self.numeric_categorical_attributes(df)\n",
    "        self.df = df\n",
    "        self.cols_numeric = cols_numeric\n",
    "        self.cols_categorical = cols_categorical\n",
    "        self.onehot_dict = {}\n",
    "        self.label_dict = {}\n",
    "        self.target_cols = target_cols\n",
    "\n",
    "    def __str__(self):\n",
    "        return str(self.df.head())\n",
    "        \n",
    "    def numeric_categorical_attributes(self, df):\n",
    "        numeric, categorical = (set(), set())\n",
    "        for col in df.columns:\n",
    "            try:\n",
    "                df[col].apply(pd.to_numeric)\n",
    "                numeric.add(col)\n",
    "            except:\n",
    "                categorical.add(col)\n",
    "        return (numeric, categorical)\n",
    "\n",
    "    def clean_out(self, drop_cols):\n",
    "        # Drop columns that have many nulls.\n",
    "        new_df = self.df.drop(columns=drop_cols, axis=1)\n",
    "        new_cols_numeric, new_cols_categorical = [cols.difference(drop_cols) for cols in [self.cols_numeric, self.cols_categorical]]\n",
    "        # Impute missing values with the median of the respective column\n",
    "        for col in new_cols_numeric:\n",
    "            median_value = self.df[col].median()\n",
    "            new_df[col] = self.df[col].fillna(median_value)  \n",
    "        # Impute missing values with the mode of the respective column\n",
    "        for col in new_cols_categorical:\n",
    "            mode_value = self.df[col].mode()[0]\n",
    "            new_df[col] = self.df[col].fillna(mode_value)\n",
    "        self.df = new_df\n",
    "        self.cols_numeric = new_cols_numeric\n",
    "        self.cols_categorical = new_cols_categorical\n",
    "\n",
    "    def filterByColumn(self, filter_dict, drop = False):\n",
    "        for col in filter_dict.keys():\n",
    "            self.df = self.df[self.df.apply(lambda x: x[col] in filter_dict[col], axis = 1)]\n",
    "        if drop:\n",
    "            drop_cols = list(filter_dict.keys())\n",
    "            self.cols_numeric, self.cols_categorical = [cols.difference(drop_cols) for cols in [self.cols_numeric, self.cols_categorical]]\n",
    "            self.df = self.df.drop(columns = list(filter_dict.keys()), axis = 1).reset_index(drop=True)\n",
    "\n",
    "    def label_encoding(self, cols):\n",
    "        label_dict = {}\n",
    "        for col in cols: \n",
    "            unique_values = list(set(self.df[col]))\n",
    "            label_dict[col] = unique_values\n",
    "            map_value = {unique_values[i] : i for i in range(len(unique_values))}\n",
    "            self.df[col] = self.df[col].map(map_value)\n",
    "            self.cols_categorical = self.cols_categorical.difference({col})\n",
    "            self.cols_numeric = self.cols_numeric.union({col})\n",
    "        self.label_dict = self.label_dict | label_dict\n",
    "\n",
    "    def onehot(self, cols = None):\n",
    "        cols = self.cols_categorical if cols is None else cols\n",
    "        onehot_dict = dict([(col, list(set(self.df[col]))) for col in cols])\n",
    "        cols_numeric = self.cols_numeric\n",
    "        cols_categorical = self.cols_categorical\n",
    "        for col in onehot_dict.keys():\n",
    "            cols_numeric = cols_numeric.union(set([\"{}_{}\".format(col, i) for i in onehot_dict[col]]))\n",
    "            cols_categorical = cols_categorical.difference({col})\n",
    "        encoder = OneHotEncoder(sparse_output = False).set_output(transform=\"pandas\")\n",
    "        X_ohe_cat = encoder.fit_transform(self.df[list(cols)])\n",
    "        self.df = pd.concat([X_ohe_cat, self.df[list(set(self.df.columns).difference(cols))]], axis=1)\n",
    "        self.cols_numeric = cols_numeric\n",
    "        self.cols_categorical = cols_categorical\n",
    "        self.onehot_dict = self.onehot_dict | onehot_dict\n",
    "\n",
    "    def reverse_onehot(self, cols):\n",
    "        for col in cols:\n",
    "            categories = self.onehot_dict.pop(col)\n",
    "            drop_cols = [\"{}_{}\".format(col, i) for i in categories]\n",
    "            self.cols_numeric = self.cols_numeric.difference(set(drop_cols))\n",
    "            self.cols_categorical = self.cols_categorical.union({col})\n",
    "            df_cat = self.df.loc[:, drop_cols]\n",
    "            n = range(len(drop_cols))\n",
    "            mapping = dict(list(zip(tuple([tuple([int(i == j) for i in n]) for j in n]), categories)))\n",
    "            self.df = pd.concat([self.df.drop(columns=drop_cols, axis=1), df_cat.index.to_series(name = col).map(lambda i: mapping[tuple(df_cat.loc[i, :])])], axis=1)\n",
    "\n",
    "    def std_scaling(data, target):\n",
    "        scaler = StandardScaler().set_output(transform=\"pandas\")\n",
    "        self.df = pd.concat([scaler.fit_transform(data.drop(target, axis=1)), data[target]], axis=1)\n",
    "\n",
    "    def remake_column(self, col_number, newName, newValues = None, myFunc = None):\n",
    "        oldName = self.df.columns[col_number]\n",
    "        new_df = self.df.rename(columns = {oldName: newName})\n",
    "        if newValues is not None:\n",
    "            oldValues = np.sort(self.df.loc[:, oldName].unique())\n",
    "            new_df[newName] = new_df[newName].map(dict(list(zip(oldValues, newValues))))\n",
    "        else:\n",
    "            new_df[newName] = new_df[newName].map(myFunc)\n",
    "        if oldName in self.cols_numeric:\n",
    "            self.cols_numeric = self.cols_numeric.difference({oldName}).union({newName})\n",
    "        else:\n",
    "            self.cols_categorical = self.cols_categorical.difference({oldName}).union({newName})\n",
    "        self.df = new_df\n",
    "        \n",
    "    def histograms(self, features, size = 7):\n",
    "        n = len(features)\n",
    "        plt.figure(1, figsize = (size, size * n))\n",
    "        for i in range(n):\n",
    "            ax = plt.subplot(n, 1, i + 1)\n",
    "            ax.title.set_text(\"Distribution of {}\".format(features[i]))\n",
    "            plt.hist(self.df[features[i]])\n",
    "        plt.show()\n",
    "\n",
    "    def pca_explained_var(self):\n",
    "        variance_pca = []\n",
    "        number_attributes = len(self.df.columns)\n",
    "        pca = PCA(n_components=number_attributes)\n",
    "        pca.fit(self.df)\n",
    "        explained_variance = pca.explained_variance_ratio_\n",
    "        for i in range(1, number_attributes):\n",
    "            variance_list = list(explained_variance)[:i]\n",
    "            variance_pca.append(sum(variance_list))\n",
    "        plt.plot([i for i in range(0, number_attributes)], [0] + variance_pca, marker='o')\n",
    "        plt.xlabel(\"Number of Principal Components\")\n",
    "        plt.ylabel(\"Explained Variance\")\n",
    "        plt.title(\"Number of Principle Components vs Explained Variance\")\n",
    "        plt.show()"
   ]
  },
  {
   "cell_type": "markdown",
   "metadata": {},
   "source": [
    "## Main"
   ]
  },
  {
   "cell_type": "code",
   "execution_count": 83,
   "metadata": {},
   "outputs": [
    {
     "name": "stderr",
     "output_type": "stream",
     "text": [
      "C:\\Users\\Ian\\AppData\\Local\\Temp\\ipykernel_16684\\2033187036.py:3: DtypeWarning: Columns (0) have mixed types. Specify dtype option on import or set low_memory=False.\n",
      "  df = pd.read_csv(file)\n"
     ]
    },
    {
     "data": {
      "text/plain": [
       "<__main__.MyData at 0x195ba500ad0>"
      ]
     },
     "execution_count": 83,
     "metadata": {},
     "output_type": "execute_result"
    }
   ],
   "source": [
    "data = MyData(\"Amazon Sales FY2020-21.csv\", target_cols = [\"County\", \"City\", \"State\"])\n",
    "data"
   ]
  },
  {
   "cell_type": "markdown",
   "metadata": {},
   "source": [
    "# Data Preparation"
   ]
  },
  {
   "cell_type": "markdown",
   "metadata": {},
   "source": [
    "## Main"
   ]
  },
  {
   "cell_type": "code",
   "execution_count": 85,
   "metadata": {},
   "outputs": [
    {
     "ename": "KeyError",
     "evalue": "\"['order_id', 'order_date', 'item_id', 'sku', 'bi_st', 'payment_method', 'cust_id', 'Place Name', 'month', 'year', 'ref_num', 'Name Prefix', 'First Name', 'Middle Initial', 'Last Name', 'full_name', 'Sign in date', 'E Mail', 'Sign in date', 'Phone No. ', 'User Name'] not found in axis\"",
     "output_type": "error",
     "traceback": [
      "\u001b[1;31m---------------------------------------------------------------------------\u001b[0m",
      "\u001b[1;31mKeyError\u001b[0m                                  Traceback (most recent call last)",
      "\u001b[1;32mc:\\Users\\Ian\\VSProjects\\CSCI550_Final\\nb2.ipynb Cell 9\u001b[0m line \u001b[0;36m2\n\u001b[0;32m      <a href='vscode-notebook-cell:/c%3A/Users/Ian/VSProjects/CSCI550_Final/nb2.ipynb#X14sZmlsZQ%3D%3D?line=0'>1</a>\u001b[0m drop_columns \u001b[39m=\u001b[39m [\u001b[39m\"\u001b[39m\u001b[39morder_id\u001b[39m\u001b[39m\"\u001b[39m, \u001b[39m\"\u001b[39m\u001b[39morder_date\u001b[39m\u001b[39m\"\u001b[39m, \u001b[39m\"\u001b[39m\u001b[39mitem_id\u001b[39m\u001b[39m\"\u001b[39m, \u001b[39m\"\u001b[39m\u001b[39msku\u001b[39m\u001b[39m\"\u001b[39m, \u001b[39m\"\u001b[39m\u001b[39mbi_st\u001b[39m\u001b[39m\"\u001b[39m, \u001b[39m\"\u001b[39m\u001b[39mpayment_method\u001b[39m\u001b[39m\"\u001b[39m, \u001b[39m\"\u001b[39m\u001b[39mcust_id\u001b[39m\u001b[39m\"\u001b[39m, \u001b[39m\"\u001b[39m\u001b[39mPlace Name\u001b[39m\u001b[39m\"\u001b[39m, \u001b[39m\"\u001b[39m\u001b[39mmonth\u001b[39m\u001b[39m\"\u001b[39m, \u001b[39m\"\u001b[39m\u001b[39myear\u001b[39m\u001b[39m\"\u001b[39m, \u001b[39m\"\u001b[39m\u001b[39mref_num\u001b[39m\u001b[39m\"\u001b[39m, \u001b[39m'\u001b[39m\u001b[39mName Prefix\u001b[39m\u001b[39m'\u001b[39m, \u001b[39m\"\u001b[39m\u001b[39mFirst Name\u001b[39m\u001b[39m\"\u001b[39m, \u001b[39m\"\u001b[39m\u001b[39mMiddle Initial\u001b[39m\u001b[39m\"\u001b[39m, \u001b[39m\"\u001b[39m\u001b[39mLast Name\u001b[39m\u001b[39m\"\u001b[39m, \u001b[39m\"\u001b[39m\u001b[39mfull_name\u001b[39m\u001b[39m\"\u001b[39m, \u001b[39m\"\u001b[39m\u001b[39mSign in date\u001b[39m\u001b[39m\"\u001b[39m, \u001b[39m\"\u001b[39m\u001b[39mE Mail\u001b[39m\u001b[39m\"\u001b[39m, \u001b[39m\"\u001b[39m\u001b[39mSign in date\u001b[39m\u001b[39m\"\u001b[39m, \u001b[39m\"\u001b[39m\u001b[39mPhone No. \u001b[39m\u001b[39m\"\u001b[39m, \u001b[39m\"\u001b[39m\u001b[39mUser Name\u001b[39m\u001b[39m\"\u001b[39m]\n\u001b[1;32m----> <a href='vscode-notebook-cell:/c%3A/Users/Ian/VSProjects/CSCI550_Final/nb2.ipynb#X14sZmlsZQ%3D%3D?line=1'>2</a>\u001b[0m data\u001b[39m.\u001b[39;49mclean_out(drop_columns)\n\u001b[0;32m      <a href='vscode-notebook-cell:/c%3A/Users/Ian/VSProjects/CSCI550_Final/nb2.ipynb#X14sZmlsZQ%3D%3D?line=2'>3</a>\u001b[0m data\u001b[39m.\u001b[39mfilterByColumn({\u001b[39m\"\u001b[39m\u001b[39mstatus\u001b[39m\u001b[39m\"\u001b[39m: [\u001b[39m\"\u001b[39m\u001b[39mcomplete\u001b[39m\u001b[39m\"\u001b[39m, \u001b[39m\"\u001b[39m\u001b[39mreceived\u001b[39m\u001b[39m\"\u001b[39m]}, drop\u001b[39m=\u001b[39m\u001b[39mTrue\u001b[39;00m)\n\u001b[0;32m      <a href='vscode-notebook-cell:/c%3A/Users/Ian/VSProjects/CSCI550_Final/nb2.ipynb#X14sZmlsZQ%3D%3D?line=3'>4</a>\u001b[0m data\u001b[39m.\u001b[39mlabel_encoding([\u001b[39m\"\u001b[39m\u001b[39mGender\u001b[39m\u001b[39m\"\u001b[39m])\n",
      "\u001b[1;32mc:\\Users\\Ian\\VSProjects\\CSCI550_Final\\nb2.ipynb Cell 9\u001b[0m line \u001b[0;36m2\n\u001b[0;32m     <a href='vscode-notebook-cell:/c%3A/Users/Ian/VSProjects/CSCI550_Final/nb2.ipynb#X14sZmlsZQ%3D%3D?line=24'>25</a>\u001b[0m \u001b[39mdef\u001b[39;00m \u001b[39mclean_out\u001b[39m(\u001b[39mself\u001b[39m, drop_cols):\n\u001b[0;32m     <a href='vscode-notebook-cell:/c%3A/Users/Ian/VSProjects/CSCI550_Final/nb2.ipynb#X14sZmlsZQ%3D%3D?line=25'>26</a>\u001b[0m     \u001b[39m# Drop columns that have many nulls.\u001b[39;00m\n\u001b[1;32m---> <a href='vscode-notebook-cell:/c%3A/Users/Ian/VSProjects/CSCI550_Final/nb2.ipynb#X14sZmlsZQ%3D%3D?line=26'>27</a>\u001b[0m     new_df \u001b[39m=\u001b[39m \u001b[39mself\u001b[39;49m\u001b[39m.\u001b[39;49mdf\u001b[39m.\u001b[39;49mdrop(columns\u001b[39m=\u001b[39;49mdrop_cols, axis\u001b[39m=\u001b[39;49m\u001b[39m1\u001b[39;49m)\n\u001b[0;32m     <a href='vscode-notebook-cell:/c%3A/Users/Ian/VSProjects/CSCI550_Final/nb2.ipynb#X14sZmlsZQ%3D%3D?line=27'>28</a>\u001b[0m     new_cols_numeric, new_cols_categorical \u001b[39m=\u001b[39m [cols\u001b[39m.\u001b[39mdifference(drop_cols) \u001b[39mfor\u001b[39;00m cols \u001b[39min\u001b[39;00m [\u001b[39mself\u001b[39m\u001b[39m.\u001b[39mcols_numeric, \u001b[39mself\u001b[39m\u001b[39m.\u001b[39mcols_categorical]]\n\u001b[0;32m     <a href='vscode-notebook-cell:/c%3A/Users/Ian/VSProjects/CSCI550_Final/nb2.ipynb#X14sZmlsZQ%3D%3D?line=28'>29</a>\u001b[0m     \u001b[39m# Impute missing values with the median of the respective column\u001b[39;00m\n",
      "File \u001b[1;32mc:\\Users\\Ian\\AppData\\Local\\Programs\\Python\\Python311\\Lib\\site-packages\\pandas\\core\\frame.py:5258\u001b[0m, in \u001b[0;36mDataFrame.drop\u001b[1;34m(self, labels, axis, index, columns, level, inplace, errors)\u001b[0m\n\u001b[0;32m   5110\u001b[0m \u001b[39mdef\u001b[39;00m \u001b[39mdrop\u001b[39m(\n\u001b[0;32m   5111\u001b[0m     \u001b[39mself\u001b[39m,\n\u001b[0;32m   5112\u001b[0m     labels: IndexLabel \u001b[39m=\u001b[39m \u001b[39mNone\u001b[39;00m,\n\u001b[1;32m   (...)\u001b[0m\n\u001b[0;32m   5119\u001b[0m     errors: IgnoreRaise \u001b[39m=\u001b[39m \u001b[39m\"\u001b[39m\u001b[39mraise\u001b[39m\u001b[39m\"\u001b[39m,\n\u001b[0;32m   5120\u001b[0m ) \u001b[39m-\u001b[39m\u001b[39m>\u001b[39m DataFrame \u001b[39m|\u001b[39m \u001b[39mNone\u001b[39;00m:\n\u001b[0;32m   5121\u001b[0m \u001b[39m    \u001b[39m\u001b[39m\"\"\"\u001b[39;00m\n\u001b[0;32m   5122\u001b[0m \u001b[39m    Drop specified labels from rows or columns.\u001b[39;00m\n\u001b[0;32m   5123\u001b[0m \n\u001b[1;32m   (...)\u001b[0m\n\u001b[0;32m   5256\u001b[0m \u001b[39m            weight  1.0     0.8\u001b[39;00m\n\u001b[0;32m   5257\u001b[0m \u001b[39m    \"\"\"\u001b[39;00m\n\u001b[1;32m-> 5258\u001b[0m     \u001b[39mreturn\u001b[39;00m \u001b[39msuper\u001b[39;49m()\u001b[39m.\u001b[39;49mdrop(\n\u001b[0;32m   5259\u001b[0m         labels\u001b[39m=\u001b[39;49mlabels,\n\u001b[0;32m   5260\u001b[0m         axis\u001b[39m=\u001b[39;49maxis,\n\u001b[0;32m   5261\u001b[0m         index\u001b[39m=\u001b[39;49mindex,\n\u001b[0;32m   5262\u001b[0m         columns\u001b[39m=\u001b[39;49mcolumns,\n\u001b[0;32m   5263\u001b[0m         level\u001b[39m=\u001b[39;49mlevel,\n\u001b[0;32m   5264\u001b[0m         inplace\u001b[39m=\u001b[39;49minplace,\n\u001b[0;32m   5265\u001b[0m         errors\u001b[39m=\u001b[39;49merrors,\n\u001b[0;32m   5266\u001b[0m     )\n",
      "File \u001b[1;32mc:\\Users\\Ian\\AppData\\Local\\Programs\\Python\\Python311\\Lib\\site-packages\\pandas\\core\\generic.py:4549\u001b[0m, in \u001b[0;36mNDFrame.drop\u001b[1;34m(self, labels, axis, index, columns, level, inplace, errors)\u001b[0m\n\u001b[0;32m   4547\u001b[0m \u001b[39mfor\u001b[39;00m axis, labels \u001b[39min\u001b[39;00m axes\u001b[39m.\u001b[39mitems():\n\u001b[0;32m   4548\u001b[0m     \u001b[39mif\u001b[39;00m labels \u001b[39mis\u001b[39;00m \u001b[39mnot\u001b[39;00m \u001b[39mNone\u001b[39;00m:\n\u001b[1;32m-> 4549\u001b[0m         obj \u001b[39m=\u001b[39m obj\u001b[39m.\u001b[39;49m_drop_axis(labels, axis, level\u001b[39m=\u001b[39;49mlevel, errors\u001b[39m=\u001b[39;49merrors)\n\u001b[0;32m   4551\u001b[0m \u001b[39mif\u001b[39;00m inplace:\n\u001b[0;32m   4552\u001b[0m     \u001b[39mself\u001b[39m\u001b[39m.\u001b[39m_update_inplace(obj)\n",
      "File \u001b[1;32mc:\\Users\\Ian\\AppData\\Local\\Programs\\Python\\Python311\\Lib\\site-packages\\pandas\\core\\generic.py:4591\u001b[0m, in \u001b[0;36mNDFrame._drop_axis\u001b[1;34m(self, labels, axis, level, errors, only_slice)\u001b[0m\n\u001b[0;32m   4589\u001b[0m         new_axis \u001b[39m=\u001b[39m axis\u001b[39m.\u001b[39mdrop(labels, level\u001b[39m=\u001b[39mlevel, errors\u001b[39m=\u001b[39merrors)\n\u001b[0;32m   4590\u001b[0m     \u001b[39melse\u001b[39;00m:\n\u001b[1;32m-> 4591\u001b[0m         new_axis \u001b[39m=\u001b[39m axis\u001b[39m.\u001b[39;49mdrop(labels, errors\u001b[39m=\u001b[39;49merrors)\n\u001b[0;32m   4592\u001b[0m     indexer \u001b[39m=\u001b[39m axis\u001b[39m.\u001b[39mget_indexer(new_axis)\n\u001b[0;32m   4594\u001b[0m \u001b[39m# Case for non-unique axis\u001b[39;00m\n\u001b[0;32m   4595\u001b[0m \u001b[39melse\u001b[39;00m:\n",
      "File \u001b[1;32mc:\\Users\\Ian\\AppData\\Local\\Programs\\Python\\Python311\\Lib\\site-packages\\pandas\\core\\indexes\\base.py:6699\u001b[0m, in \u001b[0;36mIndex.drop\u001b[1;34m(self, labels, errors)\u001b[0m\n\u001b[0;32m   6697\u001b[0m \u001b[39mif\u001b[39;00m mask\u001b[39m.\u001b[39many():\n\u001b[0;32m   6698\u001b[0m     \u001b[39mif\u001b[39;00m errors \u001b[39m!=\u001b[39m \u001b[39m\"\u001b[39m\u001b[39mignore\u001b[39m\u001b[39m\"\u001b[39m:\n\u001b[1;32m-> 6699\u001b[0m         \u001b[39mraise\u001b[39;00m \u001b[39mKeyError\u001b[39;00m(\u001b[39mf\u001b[39m\u001b[39m\"\u001b[39m\u001b[39m{\u001b[39;00m\u001b[39mlist\u001b[39m(labels[mask])\u001b[39m}\u001b[39;00m\u001b[39m not found in axis\u001b[39m\u001b[39m\"\u001b[39m)\n\u001b[0;32m   6700\u001b[0m     indexer \u001b[39m=\u001b[39m indexer[\u001b[39m~\u001b[39mmask]\n\u001b[0;32m   6701\u001b[0m \u001b[39mreturn\u001b[39;00m \u001b[39mself\u001b[39m\u001b[39m.\u001b[39mdelete(indexer)\n",
      "\u001b[1;31mKeyError\u001b[0m: \"['order_id', 'order_date', 'item_id', 'sku', 'bi_st', 'payment_method', 'cust_id', 'Place Name', 'month', 'year', 'ref_num', 'Name Prefix', 'First Name', 'Middle Initial', 'Last Name', 'full_name', 'Sign in date', 'E Mail', 'Sign in date', 'Phone No. ', 'User Name'] not found in axis\""
     ]
    }
   ],
   "source": [
    "drop_columns = [\"order_id\", \"order_date\", \"item_id\", \"sku\", \"bi_st\", \"payment_method\", \"cust_id\", \"Place Name\", \"month\", \"year\", \"ref_num\", 'Name Prefix', \"First Name\", \"Middle Initial\", \"Last Name\", \"full_name\", \"Sign in date\", \"E Mail\", \"Sign in date\", \"Phone No. \", \"User Name\"]\n",
    "data.clean_out(drop_columns)\n",
    "data.filterByColumn({\"status\": [\"complete\", \"received\"]}, drop=True)\n",
    "data.label_encoding([\"Gender\"])\n",
    "data.onehot([\"Region\"])\n",
    "data.normalize()\n",
    "data\n"
   ]
  },
  {
   "cell_type": "markdown",
   "metadata": {},
   "source": [
    "# Exploratory Analysis"
   ]
  },
  {
   "cell_type": "code",
   "execution_count": 31,
   "metadata": {},
   "outputs": [
    {
     "data": {
      "image/png": "[encoded data removed]",
      "text/plain": [
       "<Figure size 700x1400 with 2 Axes>"
      ]
     },
     "metadata": {},
     "output_type": "display_data"
    }
   ],
   "source": [
    "data.histograms([\"price\", \"total\"])"
   ]
  },
  {
   "cell_type": "code",
   "execution_count": 69,
   "metadata": {},
   "outputs": [
    {
     "ename": "ValueError",
     "evalue": "could not convert string to float: '100468520-1'",
     "output_type": "error",
     "traceback": [
      "\u001b[1;31m---------------------------------------------------------------------------\u001b[0m",
      "\u001b[1;31mValueError\u001b[0m                                Traceback (most recent call last)",
      "\u001b[1;32m~\\AppData\\Local\\Temp\\ipykernel_16684\\3081664491.py\u001b[0m in \u001b[0;36m?\u001b[1;34m()\u001b[0m\n\u001b[1;32m----> 1\u001b[1;33m \u001b[0mdata\u001b[0m\u001b[1;33m.\u001b[0m\u001b[0mpca_explained_var\u001b[0m\u001b[1;33m(\u001b[0m\u001b[1;33m)\u001b[0m\u001b[1;33m\u001b[0m\u001b[1;33m\u001b[0m\u001b[0m\n\u001b[0m",
      "\u001b[1;32m~\\AppData\\Local\\Temp\\ipykernel_16684\\2191292397.py\u001b[0m in \u001b[0;36m?\u001b[1;34m(self)\u001b[0m\n\u001b[0;32m    107\u001b[0m     \u001b[1;32mdef\u001b[0m \u001b[0mpca_explained_var\u001b[0m\u001b[1;33m(\u001b[0m\u001b[0mself\u001b[0m\u001b[1;33m)\u001b[0m\u001b[1;33m:\u001b[0m\u001b[1;33m\u001b[0m\u001b[1;33m\u001b[0m\u001b[0m\n\u001b[0;32m    108\u001b[0m         \u001b[0mvariance_pca\u001b[0m \u001b[1;33m=\u001b[0m \u001b[1;33m[\u001b[0m\u001b[1;33m]\u001b[0m\u001b[1;33m\u001b[0m\u001b[1;33m\u001b[0m\u001b[0m\n\u001b[0;32m    109\u001b[0m         \u001b[0mnumber_attributes\u001b[0m \u001b[1;33m=\u001b[0m \u001b[0mlen\u001b[0m\u001b[1;33m(\u001b[0m\u001b[0mself\u001b[0m\u001b[1;33m.\u001b[0m\u001b[0mdf\u001b[0m\u001b[1;33m.\u001b[0m\u001b[0mcolumns\u001b[0m\u001b[1;33m)\u001b[0m\u001b[1;33m\u001b[0m\u001b[1;33m\u001b[0m\u001b[0m\n\u001b[0;32m    110\u001b[0m         \u001b[0mpca\u001b[0m \u001b[1;33m=\u001b[0m \u001b[0mPCA\u001b[0m\u001b[1;33m(\u001b[0m\u001b[0mn_components\u001b[0m\u001b[1;33m=\u001b[0m\u001b[0mnumber_attributes\u001b[0m\u001b[1;33m)\u001b[0m\u001b[1;33m\u001b[0m\u001b[1;33m\u001b[0m\u001b[0m\n\u001b[1;32m--> 111\u001b[1;33m         \u001b[0mpca\u001b[0m\u001b[1;33m.\u001b[0m\u001b[0mfit\u001b[0m\u001b[1;33m(\u001b[0m\u001b[0mself\u001b[0m\u001b[1;33m.\u001b[0m\u001b[0mdf\u001b[0m\u001b[1;33m)\u001b[0m\u001b[1;33m\u001b[0m\u001b[1;33m\u001b[0m\u001b[0m\n\u001b[0m\u001b[0;32m    112\u001b[0m         \u001b[0mexplained_variance\u001b[0m \u001b[1;33m=\u001b[0m \u001b[0mpca\u001b[0m\u001b[1;33m.\u001b[0m\u001b[0mexplained_variance_ratio_\u001b[0m\u001b[1;33m\u001b[0m\u001b[1;33m\u001b[0m\u001b[0m\n\u001b[0;32m    113\u001b[0m         \u001b[1;32mfor\u001b[0m \u001b[0mi\u001b[0m \u001b[1;32min\u001b[0m \u001b[0mrange\u001b[0m\u001b[1;33m(\u001b[0m\u001b[1;36m1\u001b[0m\u001b[1;33m,\u001b[0m \u001b[0mnumber_attributes\u001b[0m\u001b[1;33m)\u001b[0m\u001b[1;33m:\u001b[0m\u001b[1;33m\u001b[0m\u001b[1;33m\u001b[0m\u001b[0m\n\u001b[0;32m    114\u001b[0m             \u001b[0mvariance_list\u001b[0m \u001b[1;33m=\u001b[0m \u001b[0mlist\u001b[0m\u001b[1;33m(\u001b[0m\u001b[0mexplained_variance\u001b[0m\u001b[1;33m)\u001b[0m\u001b[1;33m[\u001b[0m\u001b[1;33m:\u001b[0m\u001b[0mi\u001b[0m\u001b[1;33m]\u001b[0m\u001b[1;33m\u001b[0m\u001b[1;33m\u001b[0m\u001b[0m\n",
      "\u001b[1;32mc:\\Users\\Ian\\AppData\\Local\\Programs\\Python\\Python311\\Lib\\site-packages\\sklearn\\base.py\u001b[0m in \u001b[0;36m?\u001b[1;34m(estimator, *args, **kwargs)\u001b[0m\n\u001b[0;32m   1147\u001b[0m                 skip_parameter_validation=(\n\u001b[0;32m   1148\u001b[0m                     \u001b[0mprefer_skip_nested_validation\u001b[0m \u001b[1;32mor\u001b[0m \u001b[0mglobal_skip_validation\u001b[0m\u001b[1;33m\u001b[0m\u001b[1;33m\u001b[0m\u001b[0m\n\u001b[0;32m   1149\u001b[0m                 )\n\u001b[0;32m   1150\u001b[0m             ):\n\u001b[1;32m-> 1151\u001b[1;33m                 \u001b[1;32mreturn\u001b[0m \u001b[0mfit_method\u001b[0m\u001b[1;33m(\u001b[0m\u001b[0mestimator\u001b[0m\u001b[1;33m,\u001b[0m \u001b[1;33m*\u001b[0m\u001b[0margs\u001b[0m\u001b[1;33m,\u001b[0m \u001b[1;33m**\u001b[0m\u001b[0mkwargs\u001b[0m\u001b[1;33m)\u001b[0m\u001b[1;33m\u001b[0m\u001b[1;33m\u001b[0m\u001b[0m\n\u001b[0m",
      "\u001b[1;32mc:\\Users\\Ian\\AppData\\Local\\Programs\\Python\\Python311\\Lib\\site-packages\\sklearn\\decomposition\\_pca.py\u001b[0m in \u001b[0;36m?\u001b[1;34m(self, X, y)\u001b[0m\n\u001b[0;32m    430\u001b[0m         \u001b[1;33m-\u001b[0m\u001b[1;33m-\u001b[0m\u001b[1;33m-\u001b[0m\u001b[1;33m-\u001b[0m\u001b[1;33m-\u001b[0m\u001b[1;33m-\u001b[0m\u001b[1;33m-\u001b[0m\u001b[1;33m\u001b[0m\u001b[1;33m\u001b[0m\u001b[0m\n\u001b[0;32m    431\u001b[0m         \u001b[0mself\u001b[0m \u001b[1;33m:\u001b[0m \u001b[0mobject\u001b[0m\u001b[1;33m\u001b[0m\u001b[1;33m\u001b[0m\u001b[0m\n\u001b[0;32m    432\u001b[0m             \u001b[0mReturns\u001b[0m \u001b[0mthe\u001b[0m \u001b[0minstance\u001b[0m \u001b[0mitself\u001b[0m\u001b[1;33m.\u001b[0m\u001b[1;33m\u001b[0m\u001b[1;33m\u001b[0m\u001b[0m\n\u001b[0;32m    433\u001b[0m         \"\"\"\n\u001b[1;32m--> 434\u001b[1;33m         \u001b[0mself\u001b[0m\u001b[1;33m.\u001b[0m\u001b[0m_fit\u001b[0m\u001b[1;33m(\u001b[0m\u001b[0mX\u001b[0m\u001b[1;33m)\u001b[0m\u001b[1;33m\u001b[0m\u001b[1;33m\u001b[0m\u001b[0m\n\u001b[0m\u001b[0;32m    435\u001b[0m         \u001b[1;32mreturn\u001b[0m \u001b[0mself\u001b[0m\u001b[1;33m\u001b[0m\u001b[1;33m\u001b[0m\u001b[0m\n",
      "\u001b[1;32mc:\\Users\\Ian\\AppData\\Local\\Programs\\Python\\Python311\\Lib\\site-packages\\sklearn\\decomposition\\_pca.py\u001b[0m in \u001b[0;36m?\u001b[1;34m(self, X)\u001b[0m\n\u001b[0;32m    479\u001b[0m                 \u001b[1;34m\"PCA does not support sparse input. See \"\u001b[0m\u001b[1;33m\u001b[0m\u001b[1;33m\u001b[0m\u001b[0m\n\u001b[0;32m    480\u001b[0m                 \u001b[1;34m\"TruncatedSVD for a possible alternative.\"\u001b[0m\u001b[1;33m\u001b[0m\u001b[1;33m\u001b[0m\u001b[0m\n\u001b[0;32m    481\u001b[0m             )\n\u001b[0;32m    482\u001b[0m \u001b[1;33m\u001b[0m\u001b[0m\n\u001b[1;32m--> 483\u001b[1;33m         X = self._validate_data(\n\u001b[0m\u001b[0;32m    484\u001b[0m             \u001b[0mX\u001b[0m\u001b[1;33m,\u001b[0m \u001b[0mdtype\u001b[0m\u001b[1;33m=\u001b[0m\u001b[1;33m[\u001b[0m\u001b[0mnp\u001b[0m\u001b[1;33m.\u001b[0m\u001b[0mfloat64\u001b[0m\u001b[1;33m,\u001b[0m \u001b[0mnp\u001b[0m\u001b[1;33m.\u001b[0m\u001b[0mfloat32\u001b[0m\u001b[1;33m]\u001b[0m\u001b[1;33m,\u001b[0m \u001b[0mensure_2d\u001b[0m\u001b[1;33m=\u001b[0m\u001b[1;32mTrue\u001b[0m\u001b[1;33m,\u001b[0m \u001b[0mcopy\u001b[0m\u001b[1;33m=\u001b[0m\u001b[0mself\u001b[0m\u001b[1;33m.\u001b[0m\u001b[0mcopy\u001b[0m\u001b[1;33m\u001b[0m\u001b[1;33m\u001b[0m\u001b[0m\n\u001b[0;32m    485\u001b[0m         )\n\u001b[0;32m    486\u001b[0m \u001b[1;33m\u001b[0m\u001b[0m\n",
      "\u001b[1;32mc:\\Users\\Ian\\AppData\\Local\\Programs\\Python\\Python311\\Lib\\site-packages\\sklearn\\base.py\u001b[0m in \u001b[0;36m?\u001b[1;34m(self, X, y, reset, validate_separately, cast_to_ndarray, **check_params)\u001b[0m\n\u001b[0;32m    600\u001b[0m                 \u001b[0mout\u001b[0m \u001b[1;33m=\u001b[0m \u001b[0my\u001b[0m\u001b[1;33m\u001b[0m\u001b[1;33m\u001b[0m\u001b[0m\n\u001b[0;32m    601\u001b[0m             \u001b[1;32melse\u001b[0m\u001b[1;33m:\u001b[0m\u001b[1;33m\u001b[0m\u001b[1;33m\u001b[0m\u001b[0m\n\u001b[0;32m    602\u001b[0m                 \u001b[0mout\u001b[0m \u001b[1;33m=\u001b[0m \u001b[0mX\u001b[0m\u001b[1;33m,\u001b[0m \u001b[0my\u001b[0m\u001b[1;33m\u001b[0m\u001b[1;33m\u001b[0m\u001b[0m\n\u001b[0;32m    603\u001b[0m         \u001b[1;32melif\u001b[0m \u001b[1;32mnot\u001b[0m \u001b[0mno_val_X\u001b[0m \u001b[1;32mand\u001b[0m \u001b[0mno_val_y\u001b[0m\u001b[1;33m:\u001b[0m\u001b[1;33m\u001b[0m\u001b[1;33m\u001b[0m\u001b[0m\n\u001b[1;32m--> 604\u001b[1;33m             \u001b[0mout\u001b[0m \u001b[1;33m=\u001b[0m \u001b[0mcheck_array\u001b[0m\u001b[1;33m(\u001b[0m\u001b[0mX\u001b[0m\u001b[1;33m,\u001b[0m \u001b[0minput_name\u001b[0m\u001b[1;33m=\u001b[0m\u001b[1;34m\"X\"\u001b[0m\u001b[1;33m,\u001b[0m \u001b[1;33m**\u001b[0m\u001b[0mcheck_params\u001b[0m\u001b[1;33m)\u001b[0m\u001b[1;33m\u001b[0m\u001b[1;33m\u001b[0m\u001b[0m\n\u001b[0m\u001b[0;32m    605\u001b[0m         \u001b[1;32melif\u001b[0m \u001b[0mno_val_X\u001b[0m \u001b[1;32mand\u001b[0m \u001b[1;32mnot\u001b[0m \u001b[0mno_val_y\u001b[0m\u001b[1;33m:\u001b[0m\u001b[1;33m\u001b[0m\u001b[1;33m\u001b[0m\u001b[0m\n\u001b[0;32m    606\u001b[0m             \u001b[0mout\u001b[0m \u001b[1;33m=\u001b[0m \u001b[0m_check_y\u001b[0m\u001b[1;33m(\u001b[0m\u001b[0my\u001b[0m\u001b[1;33m,\u001b[0m \u001b[1;33m**\u001b[0m\u001b[0mcheck_params\u001b[0m\u001b[1;33m)\u001b[0m\u001b[1;33m\u001b[0m\u001b[1;33m\u001b[0m\u001b[0m\n\u001b[0;32m    607\u001b[0m         \u001b[1;32melse\u001b[0m\u001b[1;33m:\u001b[0m\u001b[1;33m\u001b[0m\u001b[1;33m\u001b[0m\u001b[0m\n",
      "\u001b[1;32mc:\\Users\\Ian\\AppData\\Local\\Programs\\Python\\Python311\\Lib\\site-packages\\sklearn\\utils\\validation.py\u001b[0m in \u001b[0;36m?\u001b[1;34m(array, accept_sparse, accept_large_sparse, dtype, order, copy, force_all_finite, ensure_2d, allow_nd, ensure_min_samples, ensure_min_features, estimator, input_name)\u001b[0m\n\u001b[0;32m    914\u001b[0m                         )\n\u001b[0;32m    915\u001b[0m                     \u001b[0marray\u001b[0m \u001b[1;33m=\u001b[0m \u001b[0mxp\u001b[0m\u001b[1;33m.\u001b[0m\u001b[0mastype\u001b[0m\u001b[1;33m(\u001b[0m\u001b[0marray\u001b[0m\u001b[1;33m,\u001b[0m \u001b[0mdtype\u001b[0m\u001b[1;33m,\u001b[0m \u001b[0mcopy\u001b[0m\u001b[1;33m=\u001b[0m\u001b[1;32mFalse\u001b[0m\u001b[1;33m)\u001b[0m\u001b[1;33m\u001b[0m\u001b[1;33m\u001b[0m\u001b[0m\n\u001b[0;32m    916\u001b[0m                 \u001b[1;32melse\u001b[0m\u001b[1;33m:\u001b[0m\u001b[1;33m\u001b[0m\u001b[1;33m\u001b[0m\u001b[0m\n\u001b[0;32m    917\u001b[0m                     \u001b[0marray\u001b[0m \u001b[1;33m=\u001b[0m \u001b[0m_asarray_with_order\u001b[0m\u001b[1;33m(\u001b[0m\u001b[0marray\u001b[0m\u001b[1;33m,\u001b[0m \u001b[0morder\u001b[0m\u001b[1;33m=\u001b[0m\u001b[0morder\u001b[0m\u001b[1;33m,\u001b[0m \u001b[0mdtype\u001b[0m\u001b[1;33m=\u001b[0m\u001b[0mdtype\u001b[0m\u001b[1;33m,\u001b[0m \u001b[0mxp\u001b[0m\u001b[1;33m=\u001b[0m\u001b[0mxp\u001b[0m\u001b[1;33m)\u001b[0m\u001b[1;33m\u001b[0m\u001b[1;33m\u001b[0m\u001b[0m\n\u001b[1;32m--> 918\u001b[1;33m             \u001b[1;32mexcept\u001b[0m \u001b[0mComplexWarning\u001b[0m \u001b[1;32mas\u001b[0m \u001b[0mcomplex_warning\u001b[0m\u001b[1;33m:\u001b[0m\u001b[1;33m\u001b[0m\u001b[1;33m\u001b[0m\u001b[0m\n\u001b[0m\u001b[0;32m    919\u001b[0m                 raise ValueError(\n\u001b[0;32m    920\u001b[0m                     \u001b[1;34m\"Complex data not supported\\n{}\\n\"\u001b[0m\u001b[1;33m.\u001b[0m\u001b[0mformat\u001b[0m\u001b[1;33m(\u001b[0m\u001b[0marray\u001b[0m\u001b[1;33m)\u001b[0m\u001b[1;33m\u001b[0m\u001b[1;33m\u001b[0m\u001b[0m\n\u001b[0;32m    921\u001b[0m                 ) from complex_warning\n",
      "\u001b[1;32mc:\\Users\\Ian\\AppData\\Local\\Programs\\Python\\Python311\\Lib\\site-packages\\sklearn\\utils\\_array_api.py\u001b[0m in \u001b[0;36m?\u001b[1;34m(array, dtype, order, copy, xp)\u001b[0m\n\u001b[0;32m    376\u001b[0m         \u001b[1;31m# Use NumPy API to support order\u001b[0m\u001b[1;33m\u001b[0m\u001b[1;33m\u001b[0m\u001b[0m\n\u001b[0;32m    377\u001b[0m         \u001b[1;32mif\u001b[0m \u001b[0mcopy\u001b[0m \u001b[1;32mis\u001b[0m \u001b[1;32mTrue\u001b[0m\u001b[1;33m:\u001b[0m\u001b[1;33m\u001b[0m\u001b[1;33m\u001b[0m\u001b[0m\n\u001b[0;32m    378\u001b[0m             \u001b[0marray\u001b[0m \u001b[1;33m=\u001b[0m \u001b[0mnumpy\u001b[0m\u001b[1;33m.\u001b[0m\u001b[0marray\u001b[0m\u001b[1;33m(\u001b[0m\u001b[0marray\u001b[0m\u001b[1;33m,\u001b[0m \u001b[0morder\u001b[0m\u001b[1;33m=\u001b[0m\u001b[0morder\u001b[0m\u001b[1;33m,\u001b[0m \u001b[0mdtype\u001b[0m\u001b[1;33m=\u001b[0m\u001b[0mdtype\u001b[0m\u001b[1;33m)\u001b[0m\u001b[1;33m\u001b[0m\u001b[1;33m\u001b[0m\u001b[0m\n\u001b[0;32m    379\u001b[0m         \u001b[1;32melse\u001b[0m\u001b[1;33m:\u001b[0m\u001b[1;33m\u001b[0m\u001b[1;33m\u001b[0m\u001b[0m\n\u001b[1;32m--> 380\u001b[1;33m             \u001b[0marray\u001b[0m \u001b[1;33m=\u001b[0m \u001b[0mnumpy\u001b[0m\u001b[1;33m.\u001b[0m\u001b[0masarray\u001b[0m\u001b[1;33m(\u001b[0m\u001b[0marray\u001b[0m\u001b[1;33m,\u001b[0m \u001b[0morder\u001b[0m\u001b[1;33m=\u001b[0m\u001b[0morder\u001b[0m\u001b[1;33m,\u001b[0m \u001b[0mdtype\u001b[0m\u001b[1;33m=\u001b[0m\u001b[0mdtype\u001b[0m\u001b[1;33m)\u001b[0m\u001b[1;33m\u001b[0m\u001b[1;33m\u001b[0m\u001b[0m\n\u001b[0m\u001b[0;32m    381\u001b[0m \u001b[1;33m\u001b[0m\u001b[0m\n\u001b[0;32m    382\u001b[0m         \u001b[1;31m# At this point array is a NumPy ndarray. We convert it to an array\u001b[0m\u001b[1;33m\u001b[0m\u001b[1;33m\u001b[0m\u001b[0m\n\u001b[0;32m    383\u001b[0m         \u001b[1;31m# container that is consistent with the input's namespace.\u001b[0m\u001b[1;33m\u001b[0m\u001b[1;33m\u001b[0m\u001b[0m\n",
      "\u001b[1;32mc:\\Users\\Ian\\AppData\\Local\\Programs\\Python\\Python311\\Lib\\site-packages\\pandas\\core\\generic.py\u001b[0m in \u001b[0;36m?\u001b[1;34m(self, dtype)\u001b[0m\n\u001b[0;32m   1996\u001b[0m     \u001b[1;32mdef\u001b[0m \u001b[0m__array__\u001b[0m\u001b[1;33m(\u001b[0m\u001b[0mself\u001b[0m\u001b[1;33m,\u001b[0m \u001b[0mdtype\u001b[0m\u001b[1;33m:\u001b[0m \u001b[0mnpt\u001b[0m\u001b[1;33m.\u001b[0m\u001b[0mDTypeLike\u001b[0m \u001b[1;33m|\u001b[0m \u001b[1;32mNone\u001b[0m \u001b[1;33m=\u001b[0m \u001b[1;32mNone\u001b[0m\u001b[1;33m)\u001b[0m \u001b[1;33m->\u001b[0m \u001b[0mnp\u001b[0m\u001b[1;33m.\u001b[0m\u001b[0mndarray\u001b[0m\u001b[1;33m:\u001b[0m\u001b[1;33m\u001b[0m\u001b[1;33m\u001b[0m\u001b[0m\n\u001b[0;32m   1997\u001b[0m         \u001b[0mvalues\u001b[0m \u001b[1;33m=\u001b[0m \u001b[0mself\u001b[0m\u001b[1;33m.\u001b[0m\u001b[0m_values\u001b[0m\u001b[1;33m\u001b[0m\u001b[1;33m\u001b[0m\u001b[0m\n\u001b[1;32m-> 1998\u001b[1;33m         \u001b[0marr\u001b[0m \u001b[1;33m=\u001b[0m \u001b[0mnp\u001b[0m\u001b[1;33m.\u001b[0m\u001b[0masarray\u001b[0m\u001b[1;33m(\u001b[0m\u001b[0mvalues\u001b[0m\u001b[1;33m,\u001b[0m \u001b[0mdtype\u001b[0m\u001b[1;33m=\u001b[0m\u001b[0mdtype\u001b[0m\u001b[1;33m)\u001b[0m\u001b[1;33m\u001b[0m\u001b[1;33m\u001b[0m\u001b[0m\n\u001b[0m\u001b[0;32m   1999\u001b[0m         if (\n\u001b[0;32m   2000\u001b[0m             \u001b[0mastype_is_view\u001b[0m\u001b[1;33m(\u001b[0m\u001b[0mvalues\u001b[0m\u001b[1;33m.\u001b[0m\u001b[0mdtype\u001b[0m\u001b[1;33m,\u001b[0m \u001b[0marr\u001b[0m\u001b[1;33m.\u001b[0m\u001b[0mdtype\u001b[0m\u001b[1;33m)\u001b[0m\u001b[1;33m\u001b[0m\u001b[1;33m\u001b[0m\u001b[0m\n\u001b[0;32m   2001\u001b[0m             \u001b[1;32mand\u001b[0m \u001b[0musing_copy_on_write\u001b[0m\u001b[1;33m(\u001b[0m\u001b[1;33m)\u001b[0m\u001b[1;33m\u001b[0m\u001b[1;33m\u001b[0m\u001b[0m\n",
      "\u001b[1;31mValueError\u001b[0m: could not convert string to float: '100468520-1'"
     ]
    }
   ],
   "source": [
    "#data.pca_explained_var()"
   ]
  },
  {
   "cell_type": "markdown",
   "metadata": {},
   "source": [
    "# Clustering"
   ]
  },
  {
   "cell_type": "code",
   "execution_count": 46,
   "metadata": {},
   "outputs": [],
   "source": [
    "def makeClusters(df, features, k, plot = None):\n",
    "    X = df[features]\n",
    "    model = KMeans(n_clusters=k, n_init=\"auto\").fit(X)\n",
    "    Y = pd.concat([df, pd.Series(data=model.predict(X), name = \"Cluster\")], axis = 1)\n",
    "    if plot is None:\n",
    "        return Y, model\n",
    "    else:\n",
    "        colors = np.linspace(0, 1, k)\n",
    "        colordict = dict(zip(range(k), colors))\n",
    "        Y[\"Color\"] = Y[\"Cluster\"].map(colordict)\n",
    "        plt.scatter(x = Y[features[0]], y = X[features[1]], c = Y[\"Color\"])\n",
    "        plt.xlabel(plot[0])\n",
    "        plt.ylabel(plot[1])\n",
    "        plt.title(\"Data in {} Clusters\".format(k))\n",
    "        plt.show()"
   ]
  },
  {
   "cell_type": "code",
   "execution_count": 64,
   "metadata": {},
   "outputs": [],
   "source": [
    "def knn_adv(train_df, test_df, cluster_features, target, k, target_weight_col = None):\n",
    "    train_df_clus, model = makeClusters(train_df, cluster_features, k)\n",
    "    clusters = pd.Series(data = model.predict(test_df), name = \"Cluster\")\n",
    "    categories = train_df[target].unique()\n",
    "    def category_dist(j):\n",
    "        cluster_df = train_df_clus.loc[lambda df: df[\"Cluster\"] == clusters[j]].drop(columns = [\"Cluster\"])\n",
    "        knn_weight = lambda i: 1/np.sqrt(2 * np.pi) * np.exp((-(np.linalg.norm(cluster_df.loc[i, cluster_features] - test_df.loc[j, cluster_features])) ** 2)/2)\n",
    "        target_weight = np.ones(cluster_df.shape[0]) if target_weight_col is None else cluster_df.index.to_series().map(lambda i: 1)\n",
    "        print(target_weight)\n",
    "        cluster_df[\"Weight\"] = cluster_df.index.map(lambda i: knn_weight(i) * target_weight[i])\n",
    "        category_series = cluster_df[[target, \"Weight\"]].groupby(by=[target]).sum()[\"Weight\"]\n",
    "        total_weight = sum(category_series)\n",
    "        category_series_complete = pd.concat([category_series, pd.Series(dict([(c, 0) for c in set(categories).difference(category_series.index)]))]).sort_index()\n",
    "        return category_series_complete.map(lambda w: w / total_weight)\n",
    "    data = dict([(j, list(category_dist(j))) for j in test_df.index])\n",
    "    cat_df = pd.DataFrame.from_dict(data = data, columns = [\"{}_{}\".format(target, c) for c in categories], orient=\"index\")\n",
    "    return pd.concat([test_df, cat_df], axis=1)"
   ]
  },
  {
   "cell_type": "code",
   "execution_count": 65,
   "metadata": {},
   "outputs": [
    {
     "name": "stdout",
     "output_type": "stream",
     "text": [
      "0         1\n",
      "1         1\n",
      "2         1\n",
      "3         1\n",
      "4         1\n",
      "         ..\n",
      "140616    1\n",
      "140658    1\n",
      "140659    1\n",
      "140660    1\n",
      "140661    1\n",
      "Length: 6595, dtype: int64\n",
      "0         1\n",
      "1         1\n",
      "2         1\n",
      "3         1\n",
      "4         1\n",
      "         ..\n",
      "140616    1\n",
      "140658    1\n",
      "140659    1\n",
      "140660    1\n",
      "140661    1\n",
      "Length: 6595, dtype: int64\n"
     ]
    },
    {
     "data": {
      "text/html": [
       "<div>\n",
       "<style scoped>\n",
       "    .dataframe tbody tr th:only-of-type {\n",
       "        vertical-align: middle;\n",
       "    }\n",
       "\n",
       "    .dataframe tbody tr th {\n",
       "        vertical-align: top;\n",
       "    }\n",
       "\n",
       "    .dataframe thead th {\n",
       "        text-align: right;\n",
       "    }\n",
       "</style>\n",
       "<table border=\"1\" class=\"dataframe\">\n",
       "  <thead>\n",
       "    <tr style=\"text-align: right;\">\n",
       "      <th></th>\n",
       "      <th>Gender</th>\n",
       "      <th>age</th>\n",
       "      <th>category_Men's Fashion</th>\n",
       "      <th>category_Appliances</th>\n",
       "      <th>category_Home &amp; Living</th>\n",
       "      <th>category_Mobiles &amp; Tablets</th>\n",
       "      <th>category_Beauty &amp; Grooming</th>\n",
       "      <th>category_Health &amp; Sports</th>\n",
       "      <th>category_Women's Fashion</th>\n",
       "      <th>category_Soghaat</th>\n",
       "      <th>category_Kids &amp; Baby</th>\n",
       "      <th>category_Superstore</th>\n",
       "      <th>category_Entertainment</th>\n",
       "      <th>category_Computing</th>\n",
       "      <th>category_Others</th>\n",
       "      <th>category_Books</th>\n",
       "      <th>category_School &amp; Education</th>\n",
       "    </tr>\n",
       "  </thead>\n",
       "  <tbody>\n",
       "    <tr>\n",
       "      <th>0</th>\n",
       "      <td>1</td>\n",
       "      <td>43</td>\n",
       "      <td>0.119213</td>\n",
       "      <td>0.076432</td>\n",
       "      <td>0.003552</td>\n",
       "      <td>0.028636</td>\n",
       "      <td>0.072216</td>\n",
       "      <td>0.025628</td>\n",
       "      <td>0.051292</td>\n",
       "      <td>0.031447</td>\n",
       "      <td>0.156524</td>\n",
       "      <td>0.181337</td>\n",
       "      <td>0.054167</td>\n",
       "      <td>0.005745</td>\n",
       "      <td>0.025791</td>\n",
       "      <td>0.055023</td>\n",
       "      <td>0.112997</td>\n",
       "    </tr>\n",
       "    <tr>\n",
       "      <th>1</th>\n",
       "      <td>1</td>\n",
       "      <td>43</td>\n",
       "      <td>0.119213</td>\n",
       "      <td>0.076432</td>\n",
       "      <td>0.003552</td>\n",
       "      <td>0.028636</td>\n",
       "      <td>0.072216</td>\n",
       "      <td>0.025628</td>\n",
       "      <td>0.051292</td>\n",
       "      <td>0.031447</td>\n",
       "      <td>0.156524</td>\n",
       "      <td>0.181337</td>\n",
       "      <td>0.054167</td>\n",
       "      <td>0.005745</td>\n",
       "      <td>0.025791</td>\n",
       "      <td>0.055023</td>\n",
       "      <td>0.112997</td>\n",
       "    </tr>\n",
       "  </tbody>\n",
       "</table>\n",
       "</div>"
      ],
      "text/plain": [
       "   Gender  age  category_Men's Fashion  category_Appliances  \\\n",
       "0       1   43                0.119213             0.076432   \n",
       "1       1   43                0.119213             0.076432   \n",
       "\n",
       "   category_Home & Living  category_Mobiles & Tablets  \\\n",
       "0                0.003552                    0.028636   \n",
       "1                0.003552                    0.028636   \n",
       "\n",
       "   category_Beauty & Grooming  category_Health & Sports  \\\n",
       "0                    0.072216                  0.025628   \n",
       "1                    0.072216                  0.025628   \n",
       "\n",
       "   category_Women's Fashion  category_Soghaat  category_Kids & Baby  \\\n",
       "0                  0.051292          0.031447              0.156524   \n",
       "1                  0.051292          0.031447              0.156524   \n",
       "\n",
       "   category_Superstore  category_Entertainment  category_Computing  \\\n",
       "0             0.181337                0.054167            0.005745   \n",
       "1             0.181337                0.054167            0.005745   \n",
       "\n",
       "   category_Others  category_Books  category_School & Education  \n",
       "0         0.025791        0.055023                     0.112997  \n",
       "1         0.025791        0.055023                     0.112997  "
      ]
     },
     "execution_count": 65,
     "metadata": {},
     "output_type": "execute_result"
    }
   ],
   "source": [
    "test_df = pd.DataFrame({\"Gender\": [1, 1], \"age\": [43, 43]})\n",
    "data.reverse_onehot([\"category\"])\n",
    "df = knn_adv(data.df, test_df, [\"Gender\", \"age\"], \"category\", 20, \"total\")"
   ]
  }
 ],
 "metadata": {
  "kernelspec": {
   "display_name": "Python 3",
   "language": "python",
   "name": "python3"
  },
  "language_info": {
   "codemirror_mode": {
    "name": "ipython",
    "version": 3
   },
   "file_extension": ".py",
   "mimetype": "text/x-python",
   "name": "python",
   "nbconvert_exporter": "python",
   "pygments_lexer": "ipython3",
   "version": "3.11.4"
  }
 },
 "nbformat": 4,
 "nbformat_minor": 2
}
