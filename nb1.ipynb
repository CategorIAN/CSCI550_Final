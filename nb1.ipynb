{
 "cells": [
  {
   "cell_type": "markdown",
   "metadata": {},
   "source": [
    "# 0. Import Packages"
   ]
  },
  {
   "cell_type": "code",
   "execution_count": 1,
   "metadata": {},
   "outputs": [],
   "source": [
    "#--Basics---------------\n",
    "import pandas as pd\n",
    "import numpy as np\n",
    "\n",
    "#--Data Visualization----\n",
    "import matplotlib.pyplot as plt\n",
    "import seaborn as sns\n",
    "from sklearn.cluster import KMeans, DBSCAN, SpectralClustering\n",
    "from sklearn.decomposition import PCA\n",
    "from collections import Counter\n",
    "\n",
    "#---Scikit-Learn--------\n",
    "\n",
    "\n",
    "#---Misc------------------\n"
   ]
  },
  {
   "cell_type": "markdown",
   "metadata": {},
   "source": [
    "# 1. Define Data"
   ]
  },
  {
   "cell_type": "markdown",
   "metadata": {},
   "source": [
    "## Ian Functions"
   ]
  },
  {
   "cell_type": "code",
   "execution_count": 2,
   "metadata": {},
   "outputs": [],
   "source": [
    "def numeric_categorical_attributes(data):\n",
    "    numeric, categorical = (set(), set())\n",
    "    for col in data.columns:\n",
    "        try:\n",
    "            data[col].apply(pd.to_numeric)\n",
    "            numeric.add(col)\n",
    "        except:\n",
    "            categorical.add(col)\n",
    "    return (numeric, categorical)"
   ]
  },
  {
   "cell_type": "markdown",
   "metadata": {},
   "source": [
    "## Main"
   ]
  },
  {
   "cell_type": "code",
   "execution_count": 3,
   "metadata": {},
   "outputs": [
    {
     "name": "stderr",
     "output_type": "stream",
     "text": [
      "C:\\Users\\Ian\\AppData\\Local\\Temp\\ipykernel_12284\\611987888.py:1: DtypeWarning: Columns (0) have mixed types. Specify dtype option on import or set low_memory=False.\n",
      "  df = pd.read_csv(\"Amazon Sales FY2020-21.csv\")\n"
     ]
    }
   ],
   "source": [
    "df = pd.read_csv(\"Amazon Sales FY2020-21.csv\")\n",
    "zip_df = pd.read_csv(\"us_zip_codes_to_longitude_and_latitude.csv\")\n",
    "zip_dict = {item[0] : (item[1], item[2]) for item in zip(zip_df['Zip'],zip_df['Latitude'], zip_df['Longitude'])}"
   ]
  },
  {
   "cell_type": "code",
   "execution_count": 4,
   "metadata": {},
   "outputs": [
    {
     "data": {
      "text/plain": [
       "array([\"Men's Fashion\", 'Mobiles & Tablets', 'Computing', 'Appliances',\n",
       "       'Home & Living', \"Women's Fashion\", 'Health & Sports',\n",
       "       'Beauty & Grooming', 'Superstore', 'Others', 'Entertainment',\n",
       "       'Soghaat', 'Kids & Baby', 'Books', 'School & Education'],\n",
       "      dtype=object)"
      ]
     },
     "execution_count": 4,
     "metadata": {},
     "output_type": "execute_result"
    }
   ],
   "source": [
    "df[\"category\"].unique()"
   ]
  },
  {
   "cell_type": "markdown",
   "metadata": {},
   "source": [
    "# 2. Data Preparation"
   ]
  },
  {
   "cell_type": "markdown",
   "metadata": {},
   "source": [
    "## Ian Functions"
   ]
  },
  {
   "cell_type": "code",
   "execution_count": 5,
   "metadata": {
    "tags": []
   },
   "outputs": [],
   "source": [
    "def clean_out_nulls(data, drop_cols, cols_numeric, cols_categorical):\n",
    "    # Drop columns that have many nulls.\n",
    "    result = data.drop(columns=drop_cols, axis=1)\n",
    "    new_cols_numeric, new_cols_categorical = [cols.difference(drop_cols) for cols in [cols_numeric, cols_categorical]]\n",
    "    # Impute missing values with the median of the respective column\n",
    "    for col in new_cols_numeric:\n",
    "        median_value = data[col].median()\n",
    "        result[col] = data[col].fillna(median_value)  \n",
    "    # Impute missing values with the mode of the respective column\n",
    "    for col in new_cols_categorical:\n",
    "        result[col] = data[col].fillna(data[col].mode()[0])\n",
    "    \n",
    "    return (result, new_cols_numeric, new_cols_categorical)"
   ]
  },
  {
   "cell_type": "code",
   "execution_count": 6,
   "metadata": {},
   "outputs": [],
   "source": [
    "def remake_column(data, cols_numeric, cols_categorical, col_number, newName, newValues = None, myFunc = None):\n",
    "    oldName = data.columns[col_number]\n",
    "    new_data = data.rename(columns = {oldName: newName})\n",
    "    if newValues is not None:\n",
    "        oldValues = np.sort(data.loc[:, oldName].unique())\n",
    "        new_data[newName] = new_data[newName].map(dict(list(zip(oldValues, newValues))))\n",
    "    else:\n",
    "        new_data[newName] = new_data[newName].map(myFunc)\n",
    "    if oldName in cols_numeric:\n",
    "        cols_numeric = cols_numeric.difference({oldName}).union({newName})\n",
    "    else:\n",
    "        cols_categorical = cols_categorical.difference({oldName}).union({newName})\n",
    "    \n",
    "    return new_data, cols_numeric, cols_categorical\n"
   ]
  },
  {
   "cell_type": "markdown",
   "metadata": {},
   "source": [
    "## Main"
   ]
  },
  {
   "cell_type": "code",
   "execution_count": 7,
   "metadata": {},
   "outputs": [],
   "source": [
    "drop_columns = [\"order_id\", \"order_date\", \"item_id\", \"sku\", \"bi_st\", \"payment_method\", \"cust_id\", \"Place Name\", \"month\", \"year\", \"ref_num\", 'Name Prefix', \"First Name\", \"Middle Initial\", \"Last Name\", \"full_name\", \"Sign in date\", \"E Mail\", \"Sign in date\", \"Phone No. \", \"User Name\"]\n",
    "df = df.drop(columns = drop_columns, axis=1)"
   ]
  },
  {
   "cell_type": "code",
   "execution_count": 8,
   "metadata": {},
   "outputs": [],
   "source": [
    "for c in df.columns:\n",
    "  null_count = df.isnull().sum()\n",
    "  if null_count[c] > 0:\n",
    "    print(f'Missing Columns in \"{c}\" with {null_count[c]} missing values')\n",
    "  if df[c].dtype == 'mixed':\n",
    "    print(f'Column \"{c}\" has mixed values')"
   ]
  },
  {
   "cell_type": "code",
   "execution_count": 9,
   "metadata": {},
   "outputs": [],
   "source": [
    "filter_values = [\"complete\", \"received\"]\n",
    "df = df[df.apply(lambda x: x['status'] in filter_values, axis=1)]\n",
    "df = df.drop(columns = ['status'], axis = 1)\n",
    "df = df.reset_index(drop=True)"
   ]
  },
  {
   "cell_type": "markdown",
   "metadata": {},
   "source": [
    "# 3. Exploratory Analysis"
   ]
  },
  {
   "cell_type": "markdown",
   "metadata": {},
   "source": [
    "## Nolan Functions"
   ]
  },
  {
   "cell_type": "code",
   "execution_count": 10,
   "metadata": {},
   "outputs": [],
   "source": [
    "def make_histogram(column):\n",
    "  data = df[column]\n",
    "  plt.hist(data)\n",
    "  plt.title(f'Distribution of {column}')\n",
    "  plt.show()"
   ]
  },
  {
   "cell_type": "markdown",
   "metadata": {},
   "source": [
    "## Main"
   ]
  },
  {
   "cell_type": "code",
   "execution_count": 11,
   "metadata": {},
   "outputs": [
    {
     "data": {
      "image/png": "[encoded data removed]",
      "text/plain": [
       "<Figure size 640x480 with 1 Axes>"
      ]
     },
     "metadata": {},
     "output_type": "display_data"
    }
   ],
   "source": [
    "make_histogram('price')"
   ]
  },
  {
   "cell_type": "code",
   "execution_count": 12,
   "metadata": {},
   "outputs": [
    {
     "data": {
      "image/png": "[encoded data removed]",
      "text/plain": [
       "<Figure size 640x480 with 1 Axes>"
      ]
     },
     "metadata": {},
     "output_type": "display_data"
    }
   ],
   "source": [
    "make_histogram('total')"
   ]
  },
  {
   "cell_type": "code",
   "execution_count": 13,
   "metadata": {},
   "outputs": [
    {
     "data": {
      "image/png": "[encoded data removed]",
      "text/plain": [
       "<Figure size 640x480 with 1 Axes>"
      ]
     },
     "metadata": {},
     "output_type": "display_data"
    }
   ],
   "source": [
    "make_histogram(\"category\")"
   ]
  },
  {
   "cell_type": "markdown",
   "metadata": {},
   "source": [
    "# 4. Encoding"
   ]
  },
  {
   "cell_type": "markdown",
   "metadata": {},
   "source": [
    "## Nolan Functions"
   ]
  },
  {
   "cell_type": "code",
   "execution_count": 14,
   "metadata": {},
   "outputs": [],
   "source": [
    "def binary_label_encoding(data, column_name):\n",
    "    unique_values = list(set(data[column_name]))\n",
    "    map_value = {unique_values[i] : i for i in range(len(unique_values))}\n",
    "    data[column_name] = list(map(lambda x : map_value[x], data[column_name]))\n",
    "    return data\n",
    "\n",
    "def label_encoding(data, column, values):\n",
    "    map_values = {values[len(values)-i-1] : i for i in range(len(values)-1, -1, -1)}\n",
    "    data[column] = list(map(lambda x : map_values[x], data[column]))\n",
    "    return data\n",
    "\n",
    "def target_encoding(data, column):\n",
    "  count_unique = Counter(data[column])\n",
    "  total = len(data[column])\n",
    "  df[column] = list(map(lambda x : count_unique[x]/total, df[column]))\n",
    "  return df\n",
    "\n",
    "def geoencoding(data):\n",
    "  lat = []\n",
    "  lng = []\n",
    "  drop_rows = []\n",
    "  count = 0\n",
    "  zip_list = list(data['Zip'])\n",
    "  for i in range(len(zip_list)):\n",
    "    zip_code = zip_list[i]\n",
    "    if zip_code not in zip_dict:\n",
    "      drop_rows.append(i)\n",
    "      continue\n",
    "    lat_lng = zip_dict[zip_code]\n",
    "\n",
    "    lat.append(lat_lng[0])\n",
    "    lng.append(lat_lng[1])\n",
    "  data = data.drop(drop_rows)\n",
    "  data = data.reset_index(drop=True)\n",
    "  data['LAT'] = lat\n",
    "  data['LNG'] = lng\n",
    "  return data"
   ]
  },
  {
   "cell_type": "markdown",
   "metadata": {},
   "source": [
    "## Main"
   ]
  },
  {
   "cell_type": "code",
   "execution_count": 15,
   "metadata": {},
   "outputs": [],
   "source": [
    "binary_data_columns = ['Gender']\n",
    "for column_name in binary_data_columns:\n",
    "    df = binary_label_encoding(df, column_name)"
   ]
  },
  {
   "cell_type": "code",
   "execution_count": 16,
   "metadata": {},
   "outputs": [],
   "source": [
    "nominal_columns = [\"category\", \"Region\"]\n",
    "# Apply one hot encoding to our dataset for the nominal categorical features\n",
    "for col in nominal_columns:\n",
    "    df = pd.get_dummies(df, columns=[col], dtype=int)"
   ]
  },
  {
   "cell_type": "code",
   "execution_count": 17,
   "metadata": {},
   "outputs": [],
   "source": [
    "target_columns = [\"County\", \"City\", \"State\"]\n",
    "for t in target_columns:\n",
    "  df = target_encoding(df, t)"
   ]
  },
  {
   "cell_type": "code",
   "execution_count": 18,
   "metadata": {},
   "outputs": [],
   "source": [
    "df = geoencoding(df)"
   ]
  },
  {
   "cell_type": "markdown",
   "metadata": {},
   "source": [
    "# 5. PCA"
   ]
  },
  {
   "cell_type": "markdown",
   "metadata": {},
   "source": [
    "## Main"
   ]
  },
  {
   "cell_type": "code",
   "execution_count": 19,
   "metadata": {},
   "outputs": [
    {
     "data": {
      "image/png": "[encoded data removed]",
      "text/plain": [
       "<Figure size 640x480 with 1 Axes>"
      ]
     },
     "metadata": {},
     "output_type": "display_data"
    }
   ],
   "source": [
    "variance_pca = []\n",
    "number_attributes = len(df.columns)\n",
    "pca = PCA(n_components=number_attributes)\n",
    "pca.fit(df)\n",
    "explained_variance = pca.explained_variance_ratio_\n",
    "for i in range(1, number_attributes):\n",
    "    variance_list = list(explained_variance)[:i]\n",
    "    variance_pca.append(sum(variance_list))\n",
    "plt.plot([i for i in range(0, number_attributes)], [0] + variance_pca, marker='o')\n",
    "plt.xlabel(\"Number of Principal Components\")\n",
    "plt.ylabel(\"Explained Variance\")\n",
    "plt.title(\"Number of Principle Components vs Explained Variance\")\n",
    "plt.show()"
   ]
  },
  {
   "cell_type": "markdown",
   "metadata": {},
   "source": [
    "# 6. Clustering"
   ]
  },
  {
   "cell_type": "code",
   "execution_count": 21,
   "metadata": {},
   "outputs": [],
   "source": [
    "def reverse_one_hot(df, features, name, categories):\n",
    "    df_cat = df.loc[:, [\"{}_{}\".format(name, i) for i in categories]]\n",
    "    n = range(len(categories))\n",
    "    mapping = dict(list(zip(tuple([tuple([int(i == j) for i in n]) for j in n]), categories)))\n",
    "    return pd.concat([df.loc[:, features], df_cat.index.to_series(name = name).map(lambda i: mapping[tuple(df_cat.loc[i, :])])], axis=1)"
   ]
  },
  {
   "cell_type": "code",
   "execution_count": 22,
   "metadata": {},
   "outputs": [
    {
     "data": {
      "text/html": [
       "<div>\n",
       "<style scoped>\n",
       "    .dataframe tbody tr th:only-of-type {\n",
       "        vertical-align: middle;\n",
       "    }\n",
       "\n",
       "    .dataframe tbody tr th {\n",
       "        vertical-align: top;\n",
       "    }\n",
       "\n",
       "    .dataframe thead th {\n",
       "        text-align: right;\n",
       "    }\n",
       "</style>\n",
       "<table border=\"1\" class=\"dataframe\">\n",
       "  <thead>\n",
       "    <tr style=\"text-align: right;\">\n",
       "      <th></th>\n",
       "      <th>LAT</th>\n",
       "      <th>LNG</th>\n",
       "      <th>total</th>\n",
       "      <th>category</th>\n",
       "    </tr>\n",
       "  </thead>\n",
       "  <tbody>\n",
       "    <tr>\n",
       "      <th>0</th>\n",
       "      <td>34.924584</td>\n",
       "      <td>-99.867360</td>\n",
       "      <td>1798.0</td>\n",
       "      <td>Men's Fashion</td>\n",
       "    </tr>\n",
       "    <tr>\n",
       "      <th>1</th>\n",
       "      <td>34.924584</td>\n",
       "      <td>-99.867360</td>\n",
       "      <td>190.0</td>\n",
       "      <td>Men's Fashion</td>\n",
       "    </tr>\n",
       "    <tr>\n",
       "      <th>2</th>\n",
       "      <td>34.924584</td>\n",
       "      <td>-99.867360</td>\n",
       "      <td>1199.2</td>\n",
       "      <td>Men's Fashion</td>\n",
       "    </tr>\n",
       "    <tr>\n",
       "      <th>3</th>\n",
       "      <td>34.924584</td>\n",
       "      <td>-99.867360</td>\n",
       "      <td>639.2</td>\n",
       "      <td>Men's Fashion</td>\n",
       "    </tr>\n",
       "    <tr>\n",
       "      <th>4</th>\n",
       "      <td>34.924584</td>\n",
       "      <td>-99.867360</td>\n",
       "      <td>99.9</td>\n",
       "      <td>Men's Fashion</td>\n",
       "    </tr>\n",
       "    <tr>\n",
       "      <th>...</th>\n",
       "      <td>...</td>\n",
       "      <td>...</td>\n",
       "      <td>...</td>\n",
       "      <td>...</td>\n",
       "    </tr>\n",
       "    <tr>\n",
       "      <th>136907</th>\n",
       "      <td>36.931166</td>\n",
       "      <td>-76.239720</td>\n",
       "      <td>168.5</td>\n",
       "      <td>Appliances</td>\n",
       "    </tr>\n",
       "    <tr>\n",
       "      <th>136908</th>\n",
       "      <td>36.931166</td>\n",
       "      <td>-76.239720</td>\n",
       "      <td>1284.2</td>\n",
       "      <td>Computing</td>\n",
       "    </tr>\n",
       "    <tr>\n",
       "      <th>136909</th>\n",
       "      <td>62.908130</td>\n",
       "      <td>-160.066750</td>\n",
       "      <td>25.0</td>\n",
       "      <td>Women's Fashion</td>\n",
       "    </tr>\n",
       "    <tr>\n",
       "      <th>136910</th>\n",
       "      <td>42.325364</td>\n",
       "      <td>-89.170527</td>\n",
       "      <td>200.0</td>\n",
       "      <td>Books</td>\n",
       "    </tr>\n",
       "    <tr>\n",
       "      <th>136911</th>\n",
       "      <td>37.093104</td>\n",
       "      <td>-89.539970</td>\n",
       "      <td>16.6</td>\n",
       "      <td>Beauty &amp; Grooming</td>\n",
       "    </tr>\n",
       "  </tbody>\n",
       "</table>\n",
       "<p>136912 rows × 4 columns</p>\n",
       "</div>"
      ],
      "text/plain": [
       "              LAT         LNG   total           category\n",
       "0       34.924584  -99.867360  1798.0      Men's Fashion\n",
       "1       34.924584  -99.867360   190.0      Men's Fashion\n",
       "2       34.924584  -99.867360  1199.2      Men's Fashion\n",
       "3       34.924584  -99.867360   639.2      Men's Fashion\n",
       "4       34.924584  -99.867360    99.9      Men's Fashion\n",
       "...           ...         ...     ...                ...\n",
       "136907  36.931166  -76.239720   168.5         Appliances\n",
       "136908  36.931166  -76.239720  1284.2          Computing\n",
       "136909  62.908130 -160.066750    25.0    Women's Fashion\n",
       "136910  42.325364  -89.170527   200.0              Books\n",
       "136911  37.093104  -89.539970    16.6  Beauty & Grooming\n",
       "\n",
       "[136912 rows x 4 columns]"
      ]
     },
     "execution_count": 22,
     "metadata": {},
     "output_type": "execute_result"
    }
   ],
   "source": [
    "categories = [\"Men's Fashion\", 'Mobiles & Tablets', 'Computing', 'Appliances',\n",
    "       'Home & Living', \"Women's Fashion\", 'Health & Sports',\n",
    "       'Beauty & Grooming', 'Superstore', 'Others', 'Entertainment',\n",
    "       'Soghaat', 'Kids & Baby', 'Books', 'School & Education']\n",
    "mydf = reverse_one_hot(df, [\"LAT\", \"LNG\", \"total\"], \"category\", categories)\n",
    "mydf"
   ]
  },
  {
   "cell_type": "code",
   "execution_count": 27,
   "metadata": {},
   "outputs": [],
   "source": [
    "def makeClusters(df, features, k, plot = None):\n",
    "    X = df[features]\n",
    "    model = KMeans(n_clusters=k, n_init=\"auto\").fit(X)\n",
    "    Y = pd.concat([df, pd.Series(data=model.predict(X), name = \"Cluster\")], axis = 1)\n",
    "    if plot is None:\n",
    "        return Y, model\n",
    "    else:\n",
    "        colors = np.linspace(0, 1, k)\n",
    "        colordict = dict(zip(range(k), colors))\n",
    "        Y[\"Color\"] = Y[\"Cluster\"].map(colordict)\n",
    "        plt.scatter(x = Y[features[0]], y = X[features[1]], c = Y[\"Color\"])\n",
    "        plt.xlabel(plot[0])\n",
    "        plt.ylabel(plot[1])\n",
    "        plt.title(\"Data in {} Clusters\".format(k))\n",
    "        plt.show()"
   ]
  },
  {
   "cell_type": "code",
   "execution_count": 52,
   "metadata": {},
   "outputs": [],
   "source": [
    "def weight_df(sales, store_loc, k):\n",
    "    sales_df, model = makeClusters(sales, [\"LNG\", \"LAT\"], k)\n",
    "    test_df = pd.DataFrame(dict(list(zip([\"LNG\", \"LAT\"], [[i] for i in store_loc]))))\n",
    "    store_clusters = pd.Series(data = model.predict(test_df), name = \"Cluster\")\n",
    "    cluster_df = sales_df.loc[lambda df: df[\"Cluster\"] == store_clusters[0]].drop(columns = [\"Cluster\"])\n",
    "    dist_weight = lambda i: 1/np.sqrt(2 * np.pi) * np.exp((-(np.linalg.norm(cluster_df.loc[i, [\"LNG\", \"LAT\"]] - test_df.loc[0, [\"LNG\", \"LAT\"]])) ** 2)/2)\n",
    "    cluster_df[\"Weight\"] = cluster_df.index.map(lambda i: dist_weight(i) * cluster_df.loc[i, \"total\"])\n",
    "    category_series = cluster_df[[\"category\", \"Weight\"]].groupby(by=[\"category\"]).sum()[\"Weight\"]\n",
    "    print(category_series)\n",
    "    total_weight = sum(category_series)\n",
    "    return category_series.map(lambda w: w / total_weight)"
   ]
  },
  {
   "cell_type": "code",
   "execution_count": 53,
   "metadata": {},
   "outputs": [
    {
     "name": "stdout",
     "output_type": "stream",
     "text": [
      "category\n",
      "Appliances            16150.277579\n",
      "Beauty & Grooming      1348.625682\n",
      "Books                     2.110758\n",
      "Computing              1417.708036\n",
      "Entertainment         18040.077975\n",
      "Health & Sports        1349.123281\n",
      "Home & Living           519.675372\n",
      "Kids & Baby             189.285320\n",
      "Men's Fashion          4925.053792\n",
      "Mobiles & Tablets     23949.666294\n",
      "Others                 3274.599789\n",
      "School & Education      341.515538\n",
      "Soghaat                  18.345859\n",
      "Superstore             1883.662483\n",
      "Women's Fashion        2842.168188\n",
      "Name: Weight, dtype: float64\n"
     ]
    },
    {
     "data": {
      "text/plain": [
       "category\n",
       "Appliances            0.211802\n",
       "Beauty & Grooming     0.017686\n",
       "Books                 0.000028\n",
       "Computing             0.018592\n",
       "Entertainment         0.236585\n",
       "Health & Sports       0.017693\n",
       "Home & Living         0.006815\n",
       "Kids & Baby           0.002482\n",
       "Men's Fashion         0.064589\n",
       "Mobiles & Tablets     0.314086\n",
       "Others                0.042945\n",
       "School & Education    0.004479\n",
       "Soghaat               0.000241\n",
       "Superstore            0.024703\n",
       "Women's Fashion       0.037273\n",
       "Name: Weight, dtype: float64"
      ]
     },
     "execution_count": 53,
     "metadata": {},
     "output_type": "execute_result"
    }
   ],
   "source": [
    "location = [-99.867360, 34.924584]\n",
    "weight_df(mydf, location, 20)\n"
   ]
  }
 ],
 "metadata": {
  "kernelspec": {
   "display_name": "Python 3",
   "language": "python",
   "name": "python3"
  },
  "language_info": {
   "codemirror_mode": {
    "name": "ipython",
    "version": 3
   },
   "file_extension": ".py",
   "mimetype": "text/x-python",
   "name": "python",
   "nbconvert_exporter": "python",
   "pygments_lexer": "ipython3",
   "version": "3.11.4"
  }
 },
 "nbformat": 4,
 "nbformat_minor": 2
}
